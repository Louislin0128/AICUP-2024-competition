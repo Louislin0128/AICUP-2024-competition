{
  "nbformat": 4,
  "nbformat_minor": 0,
  "metadata": {
    "colab": {
      "provenance": [],
      "gpuType": "T4",
      "authorship_tag": "ABX9TyMMwJcghvquZsw8ODW5mky0",
      "include_colab_link": true
    },
    "kernelspec": {
      "name": "python3",
      "display_name": "Python 3"
    },
    "language_info": {
      "name": "python"
    },
    "accelerator": "GPU"
  },
  "cells": [
    {
      "cell_type": "markdown",
      "metadata": {
        "id": "view-in-github",
        "colab_type": "text"
      },
      "source": [
        "<a href=\"https://colab.research.google.com/github/Louislin0128/AICUP-2024-competition/blob/main/AICUP2024_demo.ipynb\" target=\"_parent\"><img src=\"https://colab.research.google.com/assets/colab-badge.svg\" alt=\"Open In Colab\"/></a>"
      ]
    },
    {
      "cell_type": "markdown",
      "source": [
        "# [AICUP 2024] AICUP-2024-Tracking-Competition (Demo)\n",
        "\n",
        "## Team 5093: 林垣志, Luu Van Tin, Ngo Duc Thang, Nguyen Quang Sang"
      ],
      "metadata": {
        "id": "MYbw22Dyshtq"
      }
    },
    {
      "cell_type": "markdown",
      "source": [
        "# 1. Installation\n",
        "- First, in the Runtime menu -> Change runtime type, make sure to have Hardware Accelerator = GPU\n",
        "- Clone repo and install dependencies."
      ],
      "metadata": {
        "id": "FqmTr-visZCP"
      }
    },
    {
      "cell_type": "code",
      "source": [
        "!python --version"
      ],
      "metadata": {
        "id": "BQCdW2Ca7QwW"
      },
      "execution_count": null,
      "outputs": []
    },
    {
      "cell_type": "code",
      "execution_count": null,
      "metadata": {
        "id": "PuBZVTyBpHXF"
      },
      "outputs": [],
      "source": [
        "# Install code and revelent package\n",
        "import os\n",
        "import shutil\n",
        "# %cd ..\n",
        "if os.path.exists(\"./AICUP-2024-competition\"):\n",
        "  shutil.rmtree(\"AICUP-2024-competition\")\n",
        "\n",
        "!git clone https://github.com/Louislin0128/AICUP-2024-competition.git\n",
        "%cd AICUP-2024-competition\n",
        "!git submodule update --init\n",
        "!pip install -r requirements.txt"
      ]
    },
    {
      "cell_type": "markdown",
      "source": [
        "# 2. Prepare data\n",
        "- Download the pretrained weights.\n",
        "- Download the example demo images.\n",
        "\n",
        "\n",
        "##### <br/> ※ need some time to download them, plz wait for 3-5 minutes\n"
      ],
      "metadata": {
        "id": "mzH4kALqs9rN"
      }
    },
    {
      "cell_type": "code",
      "source": [
        "import os\n",
        "try:\n",
        "  os.system(\"python demo_assets/download_weights.py --target_path demo_assets\")\n",
        "  os.system(\"python demo_assets/download_dataset.py --target_path demo_assets\")\n",
        "  print(\"Download done!\")\n",
        "except Exception as error:\n",
        "    raise f\"Error Exception when pretraining the data: {error}\"\n"
      ],
      "metadata": {
        "id": "z599KtkbuQgi"
      },
      "execution_count": null,
      "outputs": []
    },
    {
      "cell_type": "markdown",
      "source": [
        "# 3. Starting inference demo\n"
      ],
      "metadata": {
        "id": "iHbwlR8xt-4Z"
      }
    },
    {
      "cell_type": "code",
      "source": [
        "!export QT_DEBUG_PLUGINS=1\n",
        "\n",
        "!python demo.py --name 'small_image'"
      ],
      "metadata": {
        "id": "34m-C8gpsgOT"
      },
      "execution_count": null,
      "outputs": []
    },
    {
      "cell_type": "markdown",
      "source": [
        "================================================================================================================\n",
        "# Appendix. a Useful tool for check download the dataset is exisiting or not\n",
        "\n"
      ],
      "metadata": {
        "id": "06SZ_yautVxz"
      }
    },
    {
      "cell_type": "code",
      "source": [
        "# def search_for_zip(directory, zip_filename):\n",
        "#     # Get list of files in the specified directory\n",
        "#     files = os.listdir(directory)\n",
        "\n",
        "#     # Check if the specified zip file is in the list of files\n",
        "#     if zip_filename in files:\n",
        "#         print(f\"'{zip_filename}' found in directory '{directory}'\")\n",
        "#         return True\n",
        "#     else:\n",
        "#         print(f\"'{zip_filename}' not found in directory '{directory}'\")\n",
        "#         return False\n",
        "\n",
        "# # Example usage\n",
        "\n",
        "# directory_path = './demo_assets'\n",
        "# zip_file_to_search = 'small_image.zip'\n",
        "# search_for_zip(directory_path, zip_file_to_search)"
      ],
      "metadata": {
        "id": "m4UojWNDa5l0"
      },
      "execution_count": null,
      "outputs": []
    },
    {
      "cell_type": "code",
      "source": [
        "# import zipfile\n",
        "\n",
        "# def unzip_file(zip_path, extract_to):\n",
        "#     try:\n",
        "#         with zipfile.ZipFile(zip_path, 'r') as zip_ref:\n",
        "#             zip_ref.extractall(extract_to)\n",
        "#             print(f\"Successfully extracted '{zip_path}' to '{extract_to}'\")\n",
        "#     except zipfile.BadZipFile:\n",
        "#         print(f\"Error: '{zip_path}' is not a valid zip file\")\n",
        "\n",
        "#     if os.path.exists(\"./demo_assets/small_image.zip\"):\n",
        "#         os.remove(\"./demo_assets/small_image.zip\")\n",
        "\n",
        "# # Example usage\n",
        "# zip_path = './demo_assets/small_image.zip'\n",
        "# extract_to = './demo_assets'\n",
        "\n",
        "# unzip_file(zip_path, extract_to)"
      ],
      "metadata": {
        "id": "oWTwWVDtb_DG"
      },
      "execution_count": null,
      "outputs": []
    }
  ]
}